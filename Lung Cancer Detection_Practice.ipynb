{
 "cells": [
  {
   "cell_type": "code",
   "execution_count": 2,
   "id": "33cd38cc",
   "metadata": {
    "scrolled": true
   },
   "outputs": [],
   "source": [
    "import cv2\n",
    "import numpy as np\n",
    "import os\n",
    "import matplotlib.pyplot as plt\n",
    "import pandas as pd\n",
    "from sklearn import preprocessing\n",
    "from sklearn.metrics import accuracy_score"
   ]
  },
  {
   "cell_type": "code",
   "execution_count": 3,
   "id": "b86efb01",
   "metadata": {},
   "outputs": [],
   "source": [
    "def crop(img,mask):\n",
    "    blur = cv2.GaussianBlur(img,(5,5),0)\n",
    "    _,breast_mask = cv2.threshold(blur,0,255,cv2.THRESH_BINARY+cv2.THRESH_OTSU)\n",
    "    \n",
    "    return breast_mask\n",
    "\n",
    "def clahe(img, clip):\n",
    "    clahe = cv2.createCLAHE(clipLimit = clip)\n",
    "    cl = clahe.apply(np.array(img*255,dtype = np.uint8))\n",
    "    return cl\n",
    "\n",
    "images = []\n",
    "labels = []\n",
    "class_label = 0\n",
    "def load_images_from_folder(folder,class_label):\n",
    "    for filename in os.listdir(folder):\n",
    "        img = cv2.imread(os.path.join(folder,filename))\n",
    "        if img is not None:\n",
    "            img = cv2.cvtColor(img, cv2.COLOR_BGR2GRAY)\n",
    "            img = cv2.resize(img,(200,200))\n",
    "            mask = np.zeros(img.shape , dtype = np.uint8)\n",
    "            img = crop(img,mask)\n",
    "            img = cv2.normalize(img,mask,0,255,cv2.NORM_MINMAX)\n",
    "            img = clahe(img,2.0)            \n",
    "            img = img.reshape(200,200,1).flatten()\n",
    "            images.append(img)\n",
    "            labels.append(class_label)\n",
    "    class_label = class_label+1\n",
    "    return class_label\n",
    "    \n",
    "class_label = load_images_from_folder(r\"D:\\Research\\_KLU\\Implemention\\Module 2\\1 The IQ-OTHNCCD lung cancer dataset\\Normal cases\",class_label)\n",
    "class_label = load_images_from_folder(r\"D:\\Research\\_KLU\\Implemention\\Module 2\\1 The IQ-OTHNCCD lung cancer dataset\\Bengin cases\",class_label)\n",
    "class_label = load_images_from_folder(r\"D:\\Research\\_KLU\\Implemention\\Module 2\\1 The IQ-OTHNCCD lung cancer dataset\\Malignant cases\",class_label)"
   ]
  },
  {
   "cell_type": "code",
   "execution_count": 39,
   "id": "08c3d21f",
   "metadata": {},
   "outputs": [],
   "source": [
    "images = np.array(images)\n",
    "labels = np.array(labels)"
   ]
  },
  {
   "cell_type": "code",
   "execution_count": 40,
   "id": "f6fcd26d",
   "metadata": {
    "scrolled": true
   },
   "outputs": [
    {
     "name": "stdout",
     "output_type": "stream",
     "text": [
      "(1097, 200, 200)\n",
      "(1097,)\n"
     ]
    }
   ],
   "source": [
    "print(images.shape)\n",
    "print(labels.shape)"
   ]
  },
  {
   "cell_type": "code",
   "execution_count": 41,
   "id": "7e3c6bc4",
   "metadata": {},
   "outputs": [
    {
     "data": {
      "text/plain": [
       "array([0, 1, 2])"
      ]
     },
     "execution_count": 41,
     "metadata": {},
     "output_type": "execute_result"
    }
   ],
   "source": [
    "np.unique(labels)"
   ]
  },
  {
   "cell_type": "code",
   "execution_count": 42,
   "id": "762d2129",
   "metadata": {},
   "outputs": [
    {
     "data": {
      "text/plain": [
       "array([2, 3, 4, 5], dtype=uint8)"
      ]
     },
     "execution_count": 42,
     "metadata": {},
     "output_type": "execute_result"
    }
   ],
   "source": [
    "np.unique(images)"
   ]
  },
  {
   "cell_type": "code",
   "execution_count": 43,
   "id": "fb0efa22",
   "metadata": {
    "scrolled": true
   },
   "outputs": [
    {
     "data": {
      "text/plain": [
       "2    561\n",
       "0    416\n",
       "1    120\n",
       "dtype: int64"
      ]
     },
     "execution_count": 43,
     "metadata": {},
     "output_type": "execute_result"
    }
   ],
   "source": [
    "pd.Series(labels).value_counts()"
   ]
  },
  {
   "cell_type": "code",
   "execution_count": 44,
   "id": "49b54ba1",
   "metadata": {
    "scrolled": true
   },
   "outputs": [
    {
     "data": {
      "text/plain": [
       "<matplotlib.image.AxesImage at 0x1ef7132ed90>"
      ]
     },
     "execution_count": 44,
     "metadata": {},
     "output_type": "execute_result"
    },
    {
     "data": {
      "image/png": "[encoded data removed]",
      "text/plain": [
       "<Figure size 432x288 with 1 Axes>"
      ]
     },
     "metadata": {
      "needs_background": "light"
     },
     "output_type": "display_data"
    }
   ],
   "source": [
    "plt.imshow(images[0],cmap='gray')"
   ]
  },
  {
   "cell_type": "code",
   "execution_count": 4,
   "id": "ced0f8ff",
   "metadata": {},
   "outputs": [
    {
     "name": "stdout",
     "output_type": "stream",
     "text": [
      "(1097, 40000)\n",
      "(1097, 40000)\n",
      "(1097,)\n"
     ]
    }
   ],
   "source": [
    "data = np.asarray(images)\n",
    "print(data.shape)\n",
    "data = preprocessing.StandardScaler().fit(data).transform(data.astype(int))\n",
    "print(data.shape)\n",
    "labels = np.asarray(labels)\n",
    "print(labels.shape)"
   ]
  },
  {
   "cell_type": "code",
   "execution_count": 5,
   "id": "3a7c9c46",
   "metadata": {},
   "outputs": [
    {
     "name": "stdout",
     "output_type": "stream",
     "text": [
      "(877, 40000)\n",
      "test data shape:\n",
      "(220, 40000)\n",
      "train label shape:\n",
      "(877,)\n",
      "test label shape:\n",
      "(220,)\n"
     ]
    }
   ],
   "source": [
    "from sklearn.model_selection import train_test_split\n",
    "\n",
    "X_train, X_test, y_train, y_test = train_test_split(data,labels,test_size=0.2,random_state=1)\n",
    "\n",
    "print (X_train.shape)\n",
    "print (\"test data shape:\")\n",
    "print (X_test.shape)\n",
    "print (\"train label shape:\")\n",
    "print (y_train.shape)\n",
    "print (\"test label shape:\")\n",
    "print (y_test.shape)"
   ]
  },
  {
   "cell_type": "code",
   "execution_count": 6,
   "id": "7e869b03",
   "metadata": {},
   "outputs": [
    {
     "name": "stdout",
     "output_type": "stream",
     "text": [
      "33.10589071449375 -13.484559070779262\n",
      "33.105890714493725 -13.484559070779262\n",
      "0.12982702240977942 -0.0528806238069775\n",
      "0.1298270224097793 -0.0528806238069775\n"
     ]
    }
   ],
   "source": [
    "print(X_train.max(),X_train.min())\n",
    "print(X_test.max(),X_test.min())\n",
    "X_train = X_train/255\n",
    "X_test = X_test/255\n",
    "print(X_train.max(),X_train.min())\n",
    "print(X_test.max(),X_test.min())"
   ]
  },
  {
   "cell_type": "code",
   "execution_count": 7,
   "id": "45b18afc",
   "metadata": {},
   "outputs": [],
   "source": [
    "from sklearn.model_selection import train_test_split\n",
    "from sklearn.model_selection import cross_val_score\n",
    "from sklearn.multiclass import OneVsRestClassifier\n",
    "from sklearn.neighbors import KNeighborsClassifier\n",
    "from sklearn.tree import DecisionTreeClassifier\n",
    "from sklearn.metrics import accuracy_score, confusion_matrix\n",
    "import numpy as np\n",
    "import matplotlib.pyplot as plt\n",
    "import seaborn as sns"
   ]
  },
  {
   "cell_type": "code",
   "execution_count": 8,
   "id": "7bc28991",
   "metadata": {
    "scrolled": false
   },
   "outputs": [
    {
     "data": {
      "image/png": "[encoded data removed]",
      "text/plain": [
       "<Figure size 432x288 with 1 Axes>"
      ]
     },
     "metadata": {
      "needs_background": "light"
     },
     "output_type": "display_data"
    }
   ],
   "source": [
    "k_range = range(1,51)\n",
    "k_scores = []\n",
    "\n",
    "for k in k_range:\n",
    "    knn = OneVsRestClassifier(KNeighborsClassifier(n_neighbors=k))\n",
    "    scores = cross_val_score(knn, X_train, y_train, cv=5, scoring='accuracy')\n",
    "    k_scores.append(scores.mean())\n",
    "    \n",
    "plt.plot(k_range, k_scores)\n",
    "plt.xlabel(\"Value of K for KNN\")\n",
    "plt.ylabel(\"Cross Validated Accuracy\")\n",
    "plt.show()"
   ]
  },
  {
   "cell_type": "code",
   "execution_count": 9,
   "id": "80778d0d",
   "metadata": {
    "collapsed": true
   },
   "outputs": [
    {
     "ename": "ValueError",
     "evalue": "x and y must have same first dimension, but have shapes (50,) and (100,)",
     "output_type": "error",
     "traceback": [
      "\u001b[1;31m---------------------------------------------------------------------------\u001b[0m",
      "\u001b[1;31mValueError\u001b[0m                                Traceback (most recent call last)",
      "\u001b[1;32m<ipython-input-9-fc26300a6db5>\u001b[0m in \u001b[0;36m<module>\u001b[1;34m\u001b[0m\n\u001b[0;32m      7\u001b[0m     \u001b[0mk_scores\u001b[0m\u001b[1;33m.\u001b[0m\u001b[0mappend\u001b[0m\u001b[1;33m(\u001b[0m\u001b[0mloss\u001b[0m\u001b[1;33m.\u001b[0m\u001b[0mmean\u001b[0m\u001b[1;33m(\u001b[0m\u001b[1;33m)\u001b[0m\u001b[1;33m)\u001b[0m\u001b[1;33m\u001b[0m\u001b[1;33m\u001b[0m\u001b[0m\n\u001b[0;32m      8\u001b[0m \u001b[1;33m\u001b[0m\u001b[0m\n\u001b[1;32m----> 9\u001b[1;33m \u001b[0mplt\u001b[0m\u001b[1;33m.\u001b[0m\u001b[0mplot\u001b[0m\u001b[1;33m(\u001b[0m\u001b[0mk_range\u001b[0m\u001b[1;33m,\u001b[0m\u001b[0mk_scores\u001b[0m\u001b[1;33m)\u001b[0m\u001b[1;33m\u001b[0m\u001b[1;33m\u001b[0m\u001b[0m\n\u001b[0m\u001b[0;32m     10\u001b[0m \u001b[0mplt\u001b[0m\u001b[1;33m.\u001b[0m\u001b[0mxlabel\u001b[0m\u001b[1;33m(\u001b[0m\u001b[1;34m\"Value of K for KNN\"\u001b[0m\u001b[1;33m)\u001b[0m\u001b[1;33m\u001b[0m\u001b[1;33m\u001b[0m\u001b[0m\n\u001b[0;32m     11\u001b[0m \u001b[0mplt\u001b[0m\u001b[1;33m.\u001b[0m\u001b[0mylabel\u001b[0m\u001b[1;33m(\u001b[0m\u001b[1;34m\"Cross Validated MSE\"\u001b[0m\u001b[1;33m)\u001b[0m\u001b[1;33m\u001b[0m\u001b[1;33m\u001b[0m\u001b[0m\n",
      "\u001b[1;32m~\\anaconda3\\lib\\site-packages\\matplotlib\\pyplot.py\u001b[0m in \u001b[0;36mplot\u001b[1;34m(scalex, scaley, data, *args, **kwargs)\u001b[0m\n\u001b[0;32m   2838\u001b[0m \u001b[1;33m@\u001b[0m\u001b[0m_copy_docstring_and_deprecators\u001b[0m\u001b[1;33m(\u001b[0m\u001b[0mAxes\u001b[0m\u001b[1;33m.\u001b[0m\u001b[0mplot\u001b[0m\u001b[1;33m)\u001b[0m\u001b[1;33m\u001b[0m\u001b[1;33m\u001b[0m\u001b[0m\n\u001b[0;32m   2839\u001b[0m \u001b[1;32mdef\u001b[0m \u001b[0mplot\u001b[0m\u001b[1;33m(\u001b[0m\u001b[1;33m*\u001b[0m\u001b[0margs\u001b[0m\u001b[1;33m,\u001b[0m \u001b[0mscalex\u001b[0m\u001b[1;33m=\u001b[0m\u001b[1;32mTrue\u001b[0m\u001b[1;33m,\u001b[0m \u001b[0mscaley\u001b[0m\u001b[1;33m=\u001b[0m\u001b[1;32mTrue\u001b[0m\u001b[1;33m,\u001b[0m \u001b[0mdata\u001b[0m\u001b[1;33m=\u001b[0m\u001b[1;32mNone\u001b[0m\u001b[1;33m,\u001b[0m \u001b[1;33m**\u001b[0m\u001b[0mkwargs\u001b[0m\u001b[1;33m)\u001b[0m\u001b[1;33m:\u001b[0m\u001b[1;33m\u001b[0m\u001b[1;33m\u001b[0m\u001b[0m\n\u001b[1;32m-> 2840\u001b[1;33m     return gca().plot(\n\u001b[0m\u001b[0;32m   2841\u001b[0m         \u001b[1;33m*\u001b[0m\u001b[0margs\u001b[0m\u001b[1;33m,\u001b[0m \u001b[0mscalex\u001b[0m\u001b[1;33m=\u001b[0m\u001b[0mscalex\u001b[0m\u001b[1;33m,\u001b[0m \u001b[0mscaley\u001b[0m\u001b[1;33m=\u001b[0m\u001b[0mscaley\u001b[0m\u001b[1;33m,\u001b[0m\u001b[1;33m\u001b[0m\u001b[1;33m\u001b[0m\u001b[0m\n\u001b[0;32m   2842\u001b[0m         **({\"data\": data} if data is not None else {}), **kwargs)\n",
      "\u001b[1;32m~\\anaconda3\\lib\\site-packages\\matplotlib\\axes\\_axes.py\u001b[0m in \u001b[0;36mplot\u001b[1;34m(self, scalex, scaley, data, *args, **kwargs)\u001b[0m\n\u001b[0;32m   1741\u001b[0m         \"\"\"\n\u001b[0;32m   1742\u001b[0m         \u001b[0mkwargs\u001b[0m \u001b[1;33m=\u001b[0m \u001b[0mcbook\u001b[0m\u001b[1;33m.\u001b[0m\u001b[0mnormalize_kwargs\u001b[0m\u001b[1;33m(\u001b[0m\u001b[0mkwargs\u001b[0m\u001b[1;33m,\u001b[0m \u001b[0mmlines\u001b[0m\u001b[1;33m.\u001b[0m\u001b[0mLine2D\u001b[0m\u001b[1;33m)\u001b[0m\u001b[1;33m\u001b[0m\u001b[1;33m\u001b[0m\u001b[0m\n\u001b[1;32m-> 1743\u001b[1;33m         \u001b[0mlines\u001b[0m \u001b[1;33m=\u001b[0m \u001b[1;33m[\u001b[0m\u001b[1;33m*\u001b[0m\u001b[0mself\u001b[0m\u001b[1;33m.\u001b[0m\u001b[0m_get_lines\u001b[0m\u001b[1;33m(\u001b[0m\u001b[1;33m*\u001b[0m\u001b[0margs\u001b[0m\u001b[1;33m,\u001b[0m \u001b[0mdata\u001b[0m\u001b[1;33m=\u001b[0m\u001b[0mdata\u001b[0m\u001b[1;33m,\u001b[0m \u001b[1;33m**\u001b[0m\u001b[0mkwargs\u001b[0m\u001b[1;33m)\u001b[0m\u001b[1;33m]\u001b[0m\u001b[1;33m\u001b[0m\u001b[1;33m\u001b[0m\u001b[0m\n\u001b[0m\u001b[0;32m   1744\u001b[0m         \u001b[1;32mfor\u001b[0m \u001b[0mline\u001b[0m \u001b[1;32min\u001b[0m \u001b[0mlines\u001b[0m\u001b[1;33m:\u001b[0m\u001b[1;33m\u001b[0m\u001b[1;33m\u001b[0m\u001b[0m\n\u001b[0;32m   1745\u001b[0m             \u001b[0mself\u001b[0m\u001b[1;33m.\u001b[0m\u001b[0madd_line\u001b[0m\u001b[1;33m(\u001b[0m\u001b[0mline\u001b[0m\u001b[1;33m)\u001b[0m\u001b[1;33m\u001b[0m\u001b[1;33m\u001b[0m\u001b[0m\n",
      "\u001b[1;32m~\\anaconda3\\lib\\site-packages\\matplotlib\\axes\\_base.py\u001b[0m in \u001b[0;36m__call__\u001b[1;34m(self, data, *args, **kwargs)\u001b[0m\n\u001b[0;32m    271\u001b[0m                 \u001b[0mthis\u001b[0m \u001b[1;33m+=\u001b[0m \u001b[0margs\u001b[0m\u001b[1;33m[\u001b[0m\u001b[1;36m0\u001b[0m\u001b[1;33m]\u001b[0m\u001b[1;33m,\u001b[0m\u001b[1;33m\u001b[0m\u001b[1;33m\u001b[0m\u001b[0m\n\u001b[0;32m    272\u001b[0m                 \u001b[0margs\u001b[0m \u001b[1;33m=\u001b[0m \u001b[0margs\u001b[0m\u001b[1;33m[\u001b[0m\u001b[1;36m1\u001b[0m\u001b[1;33m:\u001b[0m\u001b[1;33m]\u001b[0m\u001b[1;33m\u001b[0m\u001b[1;33m\u001b[0m\u001b[0m\n\u001b[1;32m--> 273\u001b[1;33m             \u001b[1;32myield\u001b[0m \u001b[1;32mfrom\u001b[0m \u001b[0mself\u001b[0m\u001b[1;33m.\u001b[0m\u001b[0m_plot_args\u001b[0m\u001b[1;33m(\u001b[0m\u001b[0mthis\u001b[0m\u001b[1;33m,\u001b[0m \u001b[0mkwargs\u001b[0m\u001b[1;33m)\u001b[0m\u001b[1;33m\u001b[0m\u001b[1;33m\u001b[0m\u001b[0m\n\u001b[0m\u001b[0;32m    274\u001b[0m \u001b[1;33m\u001b[0m\u001b[0m\n\u001b[0;32m    275\u001b[0m     \u001b[1;32mdef\u001b[0m \u001b[0mget_next_color\u001b[0m\u001b[1;33m(\u001b[0m\u001b[0mself\u001b[0m\u001b[1;33m)\u001b[0m\u001b[1;33m:\u001b[0m\u001b[1;33m\u001b[0m\u001b[1;33m\u001b[0m\u001b[0m\n",
      "\u001b[1;32m~\\anaconda3\\lib\\site-packages\\matplotlib\\axes\\_base.py\u001b[0m in \u001b[0;36m_plot_args\u001b[1;34m(self, tup, kwargs)\u001b[0m\n\u001b[0;32m    397\u001b[0m \u001b[1;33m\u001b[0m\u001b[0m\n\u001b[0;32m    398\u001b[0m         \u001b[1;32mif\u001b[0m \u001b[0mx\u001b[0m\u001b[1;33m.\u001b[0m\u001b[0mshape\u001b[0m\u001b[1;33m[\u001b[0m\u001b[1;36m0\u001b[0m\u001b[1;33m]\u001b[0m \u001b[1;33m!=\u001b[0m \u001b[0my\u001b[0m\u001b[1;33m.\u001b[0m\u001b[0mshape\u001b[0m\u001b[1;33m[\u001b[0m\u001b[1;36m0\u001b[0m\u001b[1;33m]\u001b[0m\u001b[1;33m:\u001b[0m\u001b[1;33m\u001b[0m\u001b[1;33m\u001b[0m\u001b[0m\n\u001b[1;32m--> 399\u001b[1;33m             raise ValueError(f\"x and y must have same first dimension, but \"\n\u001b[0m\u001b[0;32m    400\u001b[0m                              f\"have shapes {x.shape} and {y.shape}\")\n\u001b[0;32m    401\u001b[0m         \u001b[1;32mif\u001b[0m \u001b[0mx\u001b[0m\u001b[1;33m.\u001b[0m\u001b[0mndim\u001b[0m \u001b[1;33m>\u001b[0m \u001b[1;36m2\u001b[0m \u001b[1;32mor\u001b[0m \u001b[0my\u001b[0m\u001b[1;33m.\u001b[0m\u001b[0mndim\u001b[0m \u001b[1;33m>\u001b[0m \u001b[1;36m2\u001b[0m\u001b[1;33m:\u001b[0m\u001b[1;33m\u001b[0m\u001b[1;33m\u001b[0m\u001b[0m\n",
      "\u001b[1;31mValueError\u001b[0m: x and y must have same first dimension, but have shapes (50,) and (100,)"
     ]
    },
    {
     "data": {
      "image/png": "[encoded data removed]",
      "text/plain": [
       "<Figure size 432x288 with 1 Axes>"
      ]
     },
     "metadata": {
      "needs_background": "light"
     },
     "output_type": "display_data"
    }
   ],
   "source": [
    "k_range =range(1,51)\n",
    "k_score = []\n",
    "\n",
    "for k in k_range:\n",
    "    knn = OneVsRestClassifier(KNeighborsClassifier(n_neighbors=k))\n",
    "    loss = abs(cross_val_score(knn,X_train, y_train, cv=5, scoring='neg_mean_squared_error'))\n",
    "    k_scores.append(loss.mean())\n",
    "    \n",
    "plt.plot(k_range,k_scores)\n",
    "plt.xlabel(\"Value of K for KNN\")\n",
    "plt.ylabel(\"Cross Validated MSE\")\n",
    "plt.show()\n"
   ]
  },
  {
   "cell_type": "code",
   "execution_count": 10,
   "id": "0e8a84b0",
   "metadata": {},
   "outputs": [
    {
     "name": "stdout",
     "output_type": "stream",
     "text": [
      "              precision    recall  f1-score   support\n",
      "\n",
      "           0       0.99      1.00      0.99        88\n",
      "           1       1.00      0.96      0.98        24\n",
      "           2       1.00      1.00      1.00       108\n",
      "\n",
      "    accuracy                           1.00       220\n",
      "   macro avg       1.00      0.99      0.99       220\n",
      "weighted avg       1.00      1.00      1.00       220\n",
      "\n",
      "KNN Accuracy 0.995\n"
     ]
    },
    {
     "data": {
      "text/plain": [
       "<AxesSubplot:>"
      ]
     },
     "execution_count": 10,
     "metadata": {},
     "output_type": "execute_result"
    },
    {
     "data": {
      "image/png": "[encoded data removed]",
      "text/plain": [
       "<Figure size 432x288 with 2 Axes>"
      ]
     },
     "metadata": {
      "needs_background": "light"
     },
     "output_type": "display_data"
    }
   ],
   "source": [
    "from sklearn.metrics import classification_report\n",
    "import seaborn as sns\n",
    "\n",
    "knn = OneVsRestClassifier(KNeighborsClassifier(n_neighbors=1))\n",
    "knn.fit(X_train,y_train)\n",
    "predictions = knn.predict(X_test)\n",
    "print(classification_report(y_test,predictions))\n",
    "cm = confusion_matrix(y_test,predictions)\n",
    "#sns.heatmap(cm,annot=True,fmt='')\n",
    "print(\"KNN Accuracy %.3f\" % accuracy_score(y_test,predictions))\n",
    "\n",
    "group_counts = [\"{0:0.0f}\".format(value) for value in cm.flatten()]\n",
    "\n",
    "group_percentages = [\"{0:.2%}\".format(value) for value in cm.flatten()/np.sum(cm)]\n",
    "\n",
    "Labels = [f\"{v2}\\n{v3}\" for v2,v3 in zip(group_counts,group_percentages)]\n",
    "\n",
    "Labels = np.asarray(Labels).reshape(3,3)\n",
    "\n",
    "sns.heatmap(cm,annot=Labels,fmt='',cmap='Blues')"
   ]
  },
  {
   "cell_type": "code",
   "execution_count": 11,
   "id": "4736a71c",
   "metadata": {},
   "outputs": [
    {
     "data": {
      "text/html": [
       "<div>\n",
       "<style scoped>\n",
       "    .dataframe tbody tr th:only-of-type {\n",
       "        vertical-align: middle;\n",
       "    }\n",
       "\n",
       "    .dataframe tbody tr th {\n",
       "        vertical-align: top;\n",
       "    }\n",
       "\n",
       "    .dataframe thead th {\n",
       "        text-align: right;\n",
       "    }\n",
       "</style>\n",
       "<table border=\"1\" class=\"dataframe\">\n",
       "  <thead>\n",
       "    <tr style=\"text-align: right;\">\n",
       "      <th></th>\n",
       "      <th>KNN</th>\n",
       "    </tr>\n",
       "  </thead>\n",
       "  <tbody>\n",
       "    <tr>\n",
       "      <th>Precision</th>\n",
       "      <td>0.996255</td>\n",
       "    </tr>\n",
       "    <tr>\n",
       "      <th>Recall</th>\n",
       "      <td>0.986111</td>\n",
       "    </tr>\n",
       "    <tr>\n",
       "      <th>F1-Score</th>\n",
       "      <td>0.991025</td>\n",
       "    </tr>\n",
       "    <tr>\n",
       "      <th>Accuracy</th>\n",
       "      <td>0.995455</td>\n",
       "    </tr>\n",
       "  </tbody>\n",
       "</table>\n",
       "</div>"
      ],
      "text/plain": [
       "                KNN\n",
       "Precision  0.996255\n",
       "Recall     0.986111\n",
       "F1-Score   0.991025\n",
       "Accuracy   0.995455"
      ]
     },
     "execution_count": 11,
     "metadata": {},
     "output_type": "execute_result"
    }
   ],
   "source": [
    "report = classification_report(y_test,predictions,output_dict=True)\n",
    "macro_precision = report['macro avg']['precision']\n",
    "macro_recall = report['macro avg']['recall']\n",
    "macro_f1 = report['macro avg']['f1-score']\n",
    "accuracy = report['accuracy']\n",
    "dict_ = {'Precision':macro_precision,'Recall':macro_recall,'F1-Score':macro_f1,'Accuracy':accuracy}\n",
    "dff = pd.DataFrame.from_records([dict_])\n",
    "data4 = dff.transpose()\n",
    "data4.rename(columns = {0:'KNN'}, inplace = True)\n",
    "data4"
   ]
  },
  {
   "cell_type": "code",
   "execution_count": 12,
   "id": "996b0d10",
   "metadata": {},
   "outputs": [
    {
     "data": {
      "image/png": "[encoded data removed]",
      "text/plain": [
       "<Figure size 432x288 with 1 Axes>"
      ]
     },
     "metadata": {
      "needs_background": "light"
     },
     "output_type": "display_data"
    }
   ],
   "source": [
    "from sklearn.tree import DecisionTreeClassifier\n",
    "from sklearn.model_selection import cross_val_score\n",
    "k_range = range(1, 51)\n",
    "k_scores = []\n",
    "for k in k_range:\n",
    "    knn = DecisionTreeClassifier(criterion=\"entropy\",max_depth = k)\n",
    "    scores = cross_val_score(knn, X_train, y_train, cv=5, scoring='accuracy')\n",
    "    k_scores.append(scores.mean())\n",
    "# plot to see clearly\n",
    "plt.plot(k_range, k_scores)\n",
    "plt.xlabel('Value of K for Decision Tree Classifier')\n",
    "plt.ylabel('Cross-Validated Accuracy')\n",
    "plt.show()"
   ]
  },
  {
   "cell_type": "code",
   "execution_count": 13,
   "id": "a505e0f0",
   "metadata": {},
   "outputs": [
    {
     "data": {
      "image/png": "[encoded data removed]",
      "text/plain": [
       "<Figure size 432x288 with 1 Axes>"
      ]
     },
     "metadata": {
      "needs_background": "light"
     },
     "output_type": "display_data"
    }
   ],
   "source": [
    "k_range = range(1, 51)\n",
    "k_scores = []\n",
    "for k in k_range:\n",
    "    #print(k)\n",
    "    knn = DecisionTreeClassifier(criterion=\"entropy\",max_depth = k)\n",
    "    loss = abs(cross_val_score(knn, X_train, y_train, cv=5, scoring='neg_mean_squared_error'))\n",
    "    k_scores.append(loss.mean())\n",
    "plt.plot(k_range, k_scores)\n",
    "plt.xlabel('Value of K for KNN')\n",
    "plt.ylabel('Cross-Validated MSE')\n",
    "plt.show()"
   ]
  },
  {
   "cell_type": "code",
   "execution_count": 14,
   "id": "0d07da5b",
   "metadata": {},
   "outputs": [
    {
     "name": "stdout",
     "output_type": "stream",
     "text": [
      "              precision    recall  f1-score   support\n",
      "\n",
      "           0       0.99      0.92      0.95        88\n",
      "           1       0.92      0.92      0.92        24\n",
      "           2       0.95      1.00      0.97       108\n",
      "\n",
      "    accuracy                           0.96       220\n",
      "   macro avg       0.95      0.95      0.95       220\n",
      "weighted avg       0.96      0.96      0.96       220\n",
      "\n",
      "Decision Tree Accuracy: 0.959\n"
     ]
    },
    {
     "data": {
      "text/plain": [
       "<AxesSubplot:>"
      ]
     },
     "execution_count": 14,
     "metadata": {},
     "output_type": "execute_result"
    },
    {
     "data": {
      "image/png": "[encoded data removed]",
      "text/plain": [
       "<Figure size 432x288 with 2 Axes>"
      ]
     },
     "metadata": {
      "needs_background": "light"
     },
     "output_type": "display_data"
    }
   ],
   "source": [
    "from sklearn.multiclass import OneVsRestClassifier\n",
    "from sklearn.tree import DecisionTreeClassifier\n",
    "from sklearn.metrics import classification_report, confusion_matrix\n",
    "dtc = OneVsRestClassifier(DecisionTreeClassifier(criterion=\"entropy\",max_depth = 50))\n",
    "dtc.fit(X_train,y_train)\n",
    "predictionss = dtc.predict(X_test)\n",
    "from sklearn.metrics import accuracy_score,confusion_matrix # metrics error\n",
    "cm = confusion_matrix(y_test, predictionss)\n",
    "import seaborn as sns\n",
    "print(classification_report(y_test, predictionss))\n",
    "print('Decision Tree Accuracy: %.3f' % accuracy_score(y_test,predictionss))\n",
    "#group_names = [\"TN\",\"FP\",\"FN\",\"TP\"]\n",
    "group_counts = [\"{0:0.0f}\".format(value) for value in cm.flatten()]\n",
    "group_percentages = [\"{0:.2%}\".format(value) for value in cm.flatten()/np.sum(cm)]\n",
    "Labels = [f\"{v2}\\n{v3}\" for v2, v3 in zip(group_counts,group_percentages)]\n",
    "Labels = np.asarray(Labels).reshape(3,3)\n",
    "sns.heatmap(cm, annot=Labels, fmt='', cmap='Greens')"
   ]
  },
  {
   "cell_type": "code",
   "execution_count": 16,
   "id": "85d7a030",
   "metadata": {},
   "outputs": [
    {
     "data": {
      "text/html": [
       "<div>\n",
       "<style scoped>\n",
       "    .dataframe tbody tr th:only-of-type {\n",
       "        vertical-align: middle;\n",
       "    }\n",
       "\n",
       "    .dataframe tbody tr th {\n",
       "        vertical-align: top;\n",
       "    }\n",
       "\n",
       "    .dataframe thead th {\n",
       "        text-align: right;\n",
       "    }\n",
       "</style>\n",
       "<table border=\"1\" class=\"dataframe\">\n",
       "  <thead>\n",
       "    <tr style=\"text-align: right;\">\n",
       "      <th></th>\n",
       "      <th>KNN</th>\n",
       "      <th>Decision Tree Classifier</th>\n",
       "    </tr>\n",
       "  </thead>\n",
       "  <tbody>\n",
       "    <tr>\n",
       "      <th>Precision</th>\n",
       "      <td>0.996255</td>\n",
       "      <td>0.950613</td>\n",
       "    </tr>\n",
       "    <tr>\n",
       "      <th>Recall</th>\n",
       "      <td>0.986111</td>\n",
       "      <td>0.945707</td>\n",
       "    </tr>\n",
       "    <tr>\n",
       "      <th>F1-Score</th>\n",
       "      <td>0.991025</td>\n",
       "      <td>0.947527</td>\n",
       "    </tr>\n",
       "    <tr>\n",
       "      <th>Accuracy</th>\n",
       "      <td>0.995455</td>\n",
       "      <td>0.959091</td>\n",
       "    </tr>\n",
       "  </tbody>\n",
       "</table>\n",
       "</div>"
      ],
      "text/plain": [
       "                KNN  Decision Tree Classifier\n",
       "Precision  0.996255                  0.950613\n",
       "Recall     0.986111                  0.945707\n",
       "F1-Score   0.991025                  0.947527\n",
       "Accuracy   0.995455                  0.959091"
      ]
     },
     "execution_count": 16,
     "metadata": {},
     "output_type": "execute_result"
    }
   ],
   "source": [
    "report = classification_report(y_test, predictionss,output_dict=True)\n",
    "macro_precision =  report['macro avg']['precision'] \n",
    "macro_recall = report['macro avg']['recall']    \n",
    "macro_f1 = report['macro avg']['f1-score']\n",
    "accuracy = report['accuracy']\n",
    "listend = []\n",
    "listend.append(macro_precision)\n",
    "listend.append(macro_recall)\n",
    "listend.append(macro_f1)\n",
    "listend.append(accuracy)\n",
    "data4['Decision Tree Classifier'] = listend\n",
    "data4"
   ]
  },
  {
   "cell_type": "code",
   "execution_count": 18,
   "id": "ad81dba4",
   "metadata": {},
   "outputs": [
    {
     "data": {
      "image/png": "[encoded data removed]",
      "text/plain": [
       "<Figure size 432x288 with 1 Axes>"
      ]
     },
     "metadata": {
      "needs_background": "light"
     },
     "output_type": "display_data"
    }
   ],
   "source": [
    "from sklearn.ensemble import RandomForestClassifier\n",
    "\n",
    "k_range = range(1, 41)\n",
    "k_scores = []\n",
    "for k in k_range:\n",
    "    #print(k)\n",
    "    knn = OneVsRestClassifier(RandomForestClassifier(n_estimators = k))\n",
    "    scores = cross_val_score(knn, X_train, y_train, cv=5, scoring='accuracy')\n",
    "    k_scores.append(scores.mean())\n",
    "# plot to see clearly\n",
    "plt.plot(k_range, k_scores)\n",
    "plt.xlabel('Value of K for Random Forrest Classifier')\n",
    "plt.ylabel('Cross-Validated Accuracy')\n",
    "plt.show()"
   ]
  },
  {
   "cell_type": "code",
   "execution_count": 20,
   "id": "60a60c70",
   "metadata": {},
   "outputs": [
    {
     "data": {
      "image/png": "[encoded data removed]",
      "text/plain": [
       "<Figure size 432x288 with 1 Axes>"
      ]
     },
     "metadata": {
      "needs_background": "light"
     },
     "output_type": "display_data"
    }
   ],
   "source": [
    "k_range = range(1, 51)\n",
    "k_scores = []\n",
    "for k in k_range:\n",
    "    #print(k)\n",
    "    knn = OneVsRestClassifier(RandomForestClassifier(n_estimators = k))\n",
    "    loss = abs(cross_val_score(knn, X_train, y_train, cv=5, scoring='neg_mean_squared_error'))\n",
    "    k_scores.append(loss.mean())\n",
    "plt.plot(k_range, k_scores)\n",
    "plt.xlabel('Value of K for KNN')\n",
    "plt.ylabel('Cross-Validated MSE')\n",
    "plt.show()"
   ]
  },
  {
   "cell_type": "code",
   "execution_count": 22,
   "id": "f0d950db",
   "metadata": {},
   "outputs": [
    {
     "name": "stdout",
     "output_type": "stream",
     "text": [
      "              precision    recall  f1-score   support\n",
      "\n",
      "           0       0.98      1.00      0.99        88\n",
      "           1       1.00      0.92      0.96        24\n",
      "           2       1.00      1.00      1.00       108\n",
      "\n",
      "    accuracy                           0.99       220\n",
      "   macro avg       0.99      0.97      0.98       220\n",
      "weighted avg       0.99      0.99      0.99       220\n",
      "\n",
      "Random Tree Accuracy: 0.991\n"
     ]
    },
    {
     "data": {
      "text/plain": [
       "<AxesSubplot:>"
      ]
     },
     "execution_count": 22,
     "metadata": {},
     "output_type": "execute_result"
    },
    {
     "data": {
      "image/png": "[encoded data removed]",
      "text/plain": [
       "<Figure size 432x288 with 2 Axes>"
      ]
     },
     "metadata": {
      "needs_background": "light"
     },
     "output_type": "display_data"
    }
   ],
   "source": [
    "from sklearn.multiclass import OneVsRestClassifier\n",
    "from sklearn.ensemble import RandomForestClassifier\n",
    "from sklearn.metrics import classification_report, confusion_matrix\n",
    "rfc = OneVsRestClassifier(RandomForestClassifier(n_estimators = 50))\n",
    "rfc.fit(X_train,y_train)\n",
    "predictionsss = rfc.predict(X_test)\n",
    "from sklearn.metrics import accuracy_score,confusion_matrix # metrics error\n",
    "#print(confusion_matrix(Y_test, predictionsss))\n",
    "print(classification_report(y_test, predictionsss))\n",
    "print('Random Tree Accuracy: %.3f' % accuracy_score(y_test,predictionsss))\n",
    "cm = confusion_matrix(y_test, predictionsss)\n",
    "group_counts = [\"{0:0.0f}\".format(value) for value in cm.flatten()]\n",
    "group_percentages = [\"{0:.2%}\".format(value) for value in cm.flatten()/np.sum(cm)]\n",
    "Labels = [f\"{v2}\\n{v3}\" for v2, v3 in zip(group_counts,group_percentages)]\n",
    "Labels = np.asarray(Labels).reshape(3,3)\n",
    "sns.heatmap(cm, annot=Labels, fmt='', cmap='Oranges')"
   ]
  },
  {
   "cell_type": "code",
   "execution_count": 23,
   "id": "7f83aadc",
   "metadata": {},
   "outputs": [
    {
     "data": {
      "text/html": [
       "<div>\n",
       "<style scoped>\n",
       "    .dataframe tbody tr th:only-of-type {\n",
       "        vertical-align: middle;\n",
       "    }\n",
       "\n",
       "    .dataframe tbody tr th {\n",
       "        vertical-align: top;\n",
       "    }\n",
       "\n",
       "    .dataframe thead th {\n",
       "        text-align: right;\n",
       "    }\n",
       "</style>\n",
       "<table border=\"1\" class=\"dataframe\">\n",
       "  <thead>\n",
       "    <tr style=\"text-align: right;\">\n",
       "      <th></th>\n",
       "      <th>KNN</th>\n",
       "      <th>Decision Tree Classifier</th>\n",
       "      <th>Random Forrest Classifier</th>\n",
       "    </tr>\n",
       "  </thead>\n",
       "  <tbody>\n",
       "    <tr>\n",
       "      <th>Precision</th>\n",
       "      <td>0.996255</td>\n",
       "      <td>0.950613</td>\n",
       "      <td>0.992593</td>\n",
       "    </tr>\n",
       "    <tr>\n",
       "      <th>Recall</th>\n",
       "      <td>0.986111</td>\n",
       "      <td>0.945707</td>\n",
       "      <td>0.972222</td>\n",
       "    </tr>\n",
       "    <tr>\n",
       "      <th>F1-Score</th>\n",
       "      <td>0.991025</td>\n",
       "      <td>0.947527</td>\n",
       "      <td>0.981762</td>\n",
       "    </tr>\n",
       "    <tr>\n",
       "      <th>Accuracy</th>\n",
       "      <td>0.995455</td>\n",
       "      <td>0.959091</td>\n",
       "      <td>0.990909</td>\n",
       "    </tr>\n",
       "  </tbody>\n",
       "</table>\n",
       "</div>"
      ],
      "text/plain": [
       "                KNN  Decision Tree Classifier  Random Forrest Classifier\n",
       "Precision  0.996255                  0.950613                   0.992593\n",
       "Recall     0.986111                  0.945707                   0.972222\n",
       "F1-Score   0.991025                  0.947527                   0.981762\n",
       "Accuracy   0.995455                  0.959091                   0.990909"
      ]
     },
     "execution_count": 23,
     "metadata": {},
     "output_type": "execute_result"
    }
   ],
   "source": [
    "report = classification_report(y_test, predictionsss,output_dict=True)\n",
    "macro_precision =  report['macro avg']['precision'] \n",
    "macro_recall = report['macro avg']['recall']    \n",
    "macro_f1 = report['macro avg']['f1-score']\n",
    "accuracy = report['accuracy']\n",
    "listend = []\n",
    "listend.append(macro_precision)\n",
    "listend.append(macro_recall)\n",
    "listend.append(macro_f1)\n",
    "listend.append(accuracy)\n",
    "data4['Random Forrest Classifier'] = listend\n",
    "data4"
   ]
  },
  {
   "cell_type": "code",
   "execution_count": 24,
   "id": "59aa7b4a",
   "metadata": {},
   "outputs": [
    {
     "name": "stdout",
     "output_type": "stream",
     "text": [
      "              precision    recall  f1-score   support\n",
      "\n",
      "           0       0.92      1.00      0.96        88\n",
      "           1       1.00      0.62      0.77        24\n",
      "           2       0.99      1.00      1.00       108\n",
      "\n",
      "    accuracy                           0.96       220\n",
      "   macro avg       0.97      0.88      0.91       220\n",
      "weighted avg       0.96      0.96      0.96       220\n",
      "\n",
      "SVC Accuracy: 0.959\n"
     ]
    },
    {
     "data": {
      "text/plain": [
       "<AxesSubplot:>"
      ]
     },
     "execution_count": 24,
     "metadata": {},
     "output_type": "execute_result"
    },
    {
     "data": {
      "image/png": "[encoded data removed]",
      "text/plain": [
       "<Figure size 432x288 with 2 Axes>"
      ]
     },
     "metadata": {
      "needs_background": "light"
     },
     "output_type": "display_data"
    }
   ],
   "source": [
    "from sklearn.svm import SVC\n",
    "from sklearn.pipeline import make_pipeline\n",
    "from sklearn.preprocessing import StandardScaler\n",
    "from sklearn.metrics import classification_report, confusion_matrix\n",
    "\n",
    "regr = OneVsRestClassifier(SVC(kernel='linear'))\n",
    "regr.fit(X_train,y_train)\n",
    "predictionn = regr.predict(X_test)\n",
    "\n",
    "print(classification_report(y_test,predictionn))\n",
    "print(\"SVC Accuracy: %.3f\" %accuracy_score(y_test,predictionn))\n",
    "cm = confusion_matrix(y_test,predictionn)\n",
    "\n",
    "group_count = [\"{0:0.0f}\".format(value) for value in cm.flatten()]\n",
    "group_percentages = [\"{0:.2%}\".format(value) for value in cm.flatten()/np.sum(cm)]\n",
    "\n",
    "Labels = [f\"{v2}\\n{v3}\" for v2,v3 in zip(group_count,group_percentages)]\n",
    "Labels = np.asarray(Labels).reshape(3,3)\n",
    "\n",
    "sns.heatmap(cm, annot=Labels, fmt='', cmap=\"Reds\")"
   ]
  },
  {
   "cell_type": "code",
   "execution_count": 84,
   "id": "59bcff52",
   "metadata": {},
   "outputs": [],
   "source": [
    "\n"
   ]
  },
  {
   "cell_type": "code",
   "execution_count": 100,
   "id": "5acc6643",
   "metadata": {},
   "outputs": [],
   "source": [
    "images = []\n",
    "labels = []\n",
    "class_label = 0\n",
    "def load_images_from_folder(folder,class_label):\n",
    "    for filename in os.listdir(folder):\n",
    "        img = cv2.imread(os.path.join(folder,filename))\n",
    "        if img is not None:\n",
    "            img = cv2.cvtColor(img, cv2.COLOR_BGR2GRAY)\n",
    "            img = cv2.resize(img,(200,200))\n",
    "            mask = np.zeros(img.shape , dtype = np.uint8)\n",
    "            img = crop(img,mask)\n",
    "            img = cv2.normalize(img,mask,0,255,cv2.NORM_MINMAX)\n",
    "            img = clahe(img,2.0)            \n",
    "            img = img.reshape(200,200,1)\n",
    "            images.append(img)\n",
    "            labels.append(class_label)\n",
    "    class_label = class_label+1\n",
    "    return class_label\n",
    "    \n",
    "class_label = load_images_from_folder(r\"D:\\Research\\_KLU\\Implemention\\Module 2\\1 The IQ-OTHNCCD lung cancer dataset\\Normal cases\",class_label)\n",
    "class_label = load_images_from_folder(r\"D:\\Research\\_KLU\\Implemention\\Module 2\\1 The IQ-OTHNCCD lung cancer dataset\\Bengin cases\",class_label)\n",
    "class_label = load_images_from_folder(r\"D:\\Research\\_KLU\\Implemention\\Module 2\\1 The IQ-OTHNCCD lung cancer dataset\\Malignant cases\",class_label)\n",
    "\n",
    "# images = []\n",
    "# labels = []\n",
    "# class_label = 0\n",
    "# def load_images_from_folder(folder,class_label):\n",
    "#     for filename in os.listdir(folder):\n",
    "#         img = cv2.imread(os.path.join(filename,folder))\n",
    "#         if img is not None:\n",
    "#             img = cv2.cvtColor(img,cv2.COLOR_BGR2GRAY)\n",
    "#             img = cv2.resize(img,(200,200))\n",
    "#             mask = np.zeros(img.shape, dtype=np.uint8)\n",
    "#             img = crop(img,mask)\n",
    "#             img = cv2.normalize(img,mask,0,255, cv2.NORM_MINMAX)\n",
    "#             img = clahe(img, 2.0)\n",
    "#             img = img.reshape(200,200,1).flatten()\n",
    "#             images = images.append(img)\n",
    "#             labels.append(class_label)\n",
    "#     class_label = class_label+1\n",
    "#     return class_label\n",
    "        \n",
    "# class_label = load_images_from_folder(r\"D:\\Research\\_KLU\\Implemention\\Module 2\\1 The IQ-OTHNCCD lung cancer dataset\\Normal cases\",class_label)\n",
    "# class_label = load_images_from_folder(r\"D:\\Research\\_KLU\\Implemention\\Module 2\\1 The IQ-OTHNCCD lung cancer dataset\\Bengin cases\",class_label)\n",
    "# class_label = load_images_from_folder(r\"D:\\Research\\_KLU\\Implemention\\Module 2\\1 The IQ-OTHNCCD lung cancer dataset\\Malignant cases\",class_label)"
   ]
  },
  {
   "cell_type": "code",
   "execution_count": 101,
   "id": "cf5d2bbd",
   "metadata": {},
   "outputs": [
    {
     "data": {
      "text/plain": [
       "((1097, 200, 200, 1), (1097,))"
      ]
     },
     "execution_count": 101,
     "metadata": {},
     "output_type": "execute_result"
    }
   ],
   "source": [
    "data = np.asarray(images)\n",
    "label = np.asarray(labels)\n",
    "data.shape, label.shape"
   ]
  },
  {
   "cell_type": "code",
   "execution_count": 102,
   "id": "f81cae54",
   "metadata": {},
   "outputs": [
    {
     "name": "stdout",
     "output_type": "stream",
     "text": [
      "train data shape:\n",
      "(877, 200, 200, 1)\n",
      "test data shape:\n",
      "(220, 200, 200, 1)\n",
      "train label shape:\n",
      "(877, 3)\n",
      "test label shape:\n",
      "(220, 3)\n"
     ]
    }
   ],
   "source": [
    "X_train,X_test,y_train,y_test=train_test_split(data,label,test_size=0.2,random_state=1)\n",
    "X_train = X_train / 255\n",
    "X_test = X_test / 255\n",
    "y_train = np_utils.to_categorical(y_train)\n",
    "y_test = np_utils.to_categorical(y_test)\n",
    "classes = y_test.shape[1]\n",
    "print (\"train data shape:\")\n",
    "print (X_train.shape)\n",
    "print (\"test data shape:\")\n",
    "print (X_test.shape)\n",
    "print (\"train label shape:\")\n",
    "print (y_train.shape)\n",
    "print (\"test label shape:\")\n",
    "print (y_test.shape)"
   ]
  },
  {
   "cell_type": "code",
   "execution_count": 107,
   "id": "237f8eeb",
   "metadata": {},
   "outputs": [],
   "source": [
    "import numpy as np\n",
    "import matplotlib.pyplot as plt\n",
    "import cv2\n",
    "import os\n",
    "import h5py\n",
    "from keras.models import Sequential\n",
    "from keras.models import load_model\n",
    "from keras.layers import Dense\n",
    "from keras.layers import Dropout\n",
    "from keras.layers import Flatten\n",
    "from keras.layers.convolutional import Conv2D\n",
    "from keras.layers.convolutional import MaxPooling2D\n",
    "from keras.utils import np_utils\n",
    "from keras.utils.vis_utils import plot_model\n",
    "from keras import backend as K\n",
    "from sklearn.model_selection import train_test_split"
   ]
  },
  {
   "cell_type": "code",
   "execution_count": 104,
   "id": "47122d69",
   "metadata": {},
   "outputs": [],
   "source": [
    "# # Convert 1-dimensional class arrays to 10-dimensional class matrices\n",
    "# Y_train = np_utils.to_categorical(y_train, 10)\n",
    "# Y_test = np_utils.to_categorical(y_test, 10)"
   ]
  },
  {
   "cell_type": "code",
   "execution_count": 108,
   "id": "b20efda1",
   "metadata": {},
   "outputs": [],
   "source": [
    "def larger_model(classes):\n",
    "    model = Sequential()\n",
    "    model.add(Conv2D(32,(3,3), padding=\"same\", input_shape=(200,200,1),activation='relu'))\n",
    "    model.add(MaxPooling2D(pool_size=(2,2)))\n",
    "    model.add(Conv2D(64,(3,3), padding=\"same\", activation='relu'))\n",
    "    model.add(MaxPooling2D(pool_size=(2,2)))\n",
    "    model.add(Conv2D(128,(3,3), padding=\"same\", activation='relu'))\n",
    "    model.add(MaxPooling2D(pool_size=(2,2)))\n",
    "    \n",
    "    model.add(Dropout(0.5))\n",
    "    model.add(Flatten())\n",
    "    model.add(Dropout(0.5))\n",
    "    model.add(Dense(128,activation='relu'))\n",
    "    model.add(Dropout(0.5))\n",
    "    model.add(Dense(50,activation='relu'))\n",
    "    model.add(Dropout(0.2))\n",
    "    model.add(Dense(classes, activation='softmax'))\n",
    "    model.compile(loss='categorical_crossentropy', optimizer='adam', metrics=['accuracy'])\n",
    "    return model"
   ]
  },
  {
   "cell_type": "code",
   "execution_count": 112,
   "id": "3184e817",
   "metadata": {
    "collapsed": true
   },
   "outputs": [
    {
     "name": "stdout",
     "output_type": "stream",
     "text": [
      "Epoch 1/10\n",
      "28/28 [==============================] - 129s 4s/step - loss: 1.0025 - accuracy: 0.4595 - val_loss: 0.9933 - val_accuracy: 0.4909\n",
      "Epoch 2/10\n",
      "28/28 [==============================] - 174s 6s/step - loss: 0.9741 - accuracy: 0.4983 - val_loss: 0.9795 - val_accuracy: 0.4909\n",
      "Epoch 3/10\n",
      "28/28 [==============================] - 154s 6s/step - loss: 0.9700 - accuracy: 0.4937 - val_loss: 0.9598 - val_accuracy: 0.4909\n",
      "Epoch 4/10\n",
      "28/28 [==============================] - 155s 6s/step - loss: 0.9727 - accuracy: 0.5086 - val_loss: 0.9626 - val_accuracy: 0.4909\n",
      "Epoch 5/10\n",
      "28/28 [==============================] - 143s 5s/step - loss: 0.9590 - accuracy: 0.5086 - val_loss: 0.9627 - val_accuracy: 0.4909\n",
      "Epoch 6/10\n",
      "28/28 [==============================] - 112s 4s/step - loss: 0.9678 - accuracy: 0.5143 - val_loss: 0.9614 - val_accuracy: 0.4909\n",
      "Epoch 7/10\n",
      "28/28 [==============================] - 104s 4s/step - loss: 0.9688 - accuracy: 0.5143 - val_loss: 0.9618 - val_accuracy: 0.4909\n",
      "Epoch 8/10\n",
      "28/28 [==============================] - 102s 4s/step - loss: 0.9663 - accuracy: 0.5097 - val_loss: 0.9612 - val_accuracy: 0.4909\n",
      "Epoch 9/10\n",
      "28/28 [==============================] - 110s 4s/step - loss: 0.9796 - accuracy: 0.5120 - val_loss: 0.9632 - val_accuracy: 0.4909\n",
      "Epoch 10/10\n",
      "28/28 [==============================] - 108s 4s/step - loss: 0.9662 - accuracy: 0.5040 - val_loss: 0.9596 - val_accuracy: 0.4909\n",
      "Model: \"sequential_15\"\n",
      "_________________________________________________________________\n",
      " Layer (type)                Output Shape              Param #   \n",
      "=================================================================\n",
      " conv2d_45 (Conv2D)          (None, 200, 200, 32)      320       \n",
      "                                                                 \n",
      " max_pooling2d_45 (MaxPoolin  (None, 100, 100, 32)     0         \n",
      " g2D)                                                            \n",
      "                                                                 \n",
      " conv2d_46 (Conv2D)          (None, 100, 100, 64)      18496     \n",
      "                                                                 \n",
      " max_pooling2d_46 (MaxPoolin  (None, 50, 50, 64)       0         \n",
      " g2D)                                                            \n",
      "                                                                 \n",
      " conv2d_47 (Conv2D)          (None, 50, 50, 128)       73856     \n",
      "                                                                 \n",
      " max_pooling2d_47 (MaxPoolin  (None, 25, 25, 128)      0         \n",
      " g2D)                                                            \n",
      "                                                                 \n",
      " dropout_59 (Dropout)        (None, 25, 25, 128)       0         \n",
      "                                                                 \n",
      " flatten_15 (Flatten)        (None, 80000)             0         \n",
      "                                                                 \n",
      " dropout_60 (Dropout)        (None, 80000)             0         \n",
      "                                                                 \n",
      " dense_43 (Dense)            (None, 128)               10240128  \n",
      "                                                                 \n",
      " dropout_61 (Dropout)        (None, 128)               0         \n",
      "                                                                 \n",
      " dense_44 (Dense)            (None, 50)                6450      \n",
      "                                                                 \n",
      " dropout_62 (Dropout)        (None, 50)                0         \n",
      "                                                                 \n",
      " dense_45 (Dense)            (None, 3)                 153       \n",
      "                                                                 \n",
      "=================================================================\n",
      "Total params: 10,339,403\n",
      "Trainable params: 10,339,403\n",
      "Non-trainable params: 0\n",
      "_________________________________________________________________\n"
     ]
    }
   ],
   "source": [
    "#from sklearn.model_selection import train_test_split\n",
    "#Built the model\n",
    "model2 = larger_model(y_test.shape[1])\n",
    "#Fit the model\n",
    "hist = model2.fit(X_train, y_train, validation_data=(X_test,y_test), epochs=120, batch_size=300)\n",
    "model2.summary()"
   ]
  },
  {
   "cell_type": "code",
   "execution_count": 113,
   "id": "598cd720",
   "metadata": {
    "collapsed": true
   },
   "outputs": [
    {
     "name": "stdout",
     "output_type": "stream",
     "text": [
      "Train Loss 0.966239333152771\n",
      "Val Loss 0.9595735669136047\n",
      "Train Accuracy 0.503990888595581\n",
      "Value Accuracy 0.4909090995788574\n"
     ]
    }
   ],
   "source": [
    "train_loss=hist.history['loss']\n",
    "val_loss=hist.history['val_loss']\n",
    "train_acc=hist.history['accuracy']\n",
    "val_acc=hist.history['val_accuracy']\n",
    "print(f'Train Loss {train_loss[-1]}')\n",
    "print(f'Val Loss {val_loss[-1]}')\n",
    "print(f'Train Accuracy {train_acc[-1]}')\n",
    "print(f'Value Accuracy {val_acc[-1]}')"
   ]
  },
  {
   "cell_type": "code",
   "execution_count": 119,
   "id": "5b5e38e6",
   "metadata": {
    "collapsed": true
   },
   "outputs": [
    {
     "name": "stderr",
     "output_type": "stream",
     "text": [
      "C:\\Users\\Farhana\\anaconda3\\lib\\site-packages\\sklearn\\metrics\\_classification.py:1245: UndefinedMetricWarning: Precision and F-score are ill-defined and being set to 0.0 in labels with no predicted samples. Use `zero_division` parameter to control this behavior.\n",
      "  _warn_prf(average, modifier, msg_start, len(result))\n",
      "C:\\Users\\Farhana\\anaconda3\\lib\\site-packages\\sklearn\\metrics\\_classification.py:1245: UndefinedMetricWarning: Precision and F-score are ill-defined and being set to 0.0 in labels with no predicted samples. Use `zero_division` parameter to control this behavior.\n",
      "  _warn_prf(average, modifier, msg_start, len(result))\n",
      "C:\\Users\\Farhana\\anaconda3\\lib\\site-packages\\sklearn\\metrics\\_classification.py:1245: UndefinedMetricWarning: Precision and F-score are ill-defined and being set to 0.0 in labels with no predicted samples. Use `zero_division` parameter to control this behavior.\n",
      "  _warn_prf(average, modifier, msg_start, len(result))\n"
     ]
    },
    {
     "name": "stdout",
     "output_type": "stream",
     "text": [
      "              precision    recall  f1-score   support\n",
      "\n",
      "           0       0.00      0.00      0.00        88\n",
      "           1       0.00      0.00      0.00        24\n",
      "           2       0.49      1.00      0.66       108\n",
      "\n",
      "    accuracy                           0.49       220\n",
      "   macro avg       0.16      0.33      0.22       220\n",
      "weighted avg       0.24      0.49      0.32       220\n",
      "\n",
      "Neural Network Accuracy: 0.491\n"
     ]
    },
    {
     "data": {
      "text/plain": [
       "<AxesSubplot:>"
      ]
     },
     "execution_count": 119,
     "metadata": {},
     "output_type": "execute_result"
    },
    {
     "data": {
      "image/png": "[encoded data removed]",
      "text/plain": [
       "<Figure size 432x288 with 2 Axes>"
      ]
     },
     "metadata": {
      "needs_background": "light"
     },
     "output_type": "display_data"
    }
   ],
   "source": [
    "pred_mlpc = model2.predict(X_test)\n",
    "y_pred_mlpc=np.argmax(pred_mlpc, axis=1)\n",
    "print(classification_report(y_test, y_pred_mlpc))\n",
    "#print(confusion_matrix(y_test, pred_mlpc))\n",
    "print('Neural Network Accuracy: %.3f' % accuracy_score(y_test,y_pred_mlpc))\n",
    "cm = confusion_matrix(y_test, y_pred_mlpc)\n",
    "group_counts = [\"{0:0.0f}\".format(value) for value in cm.flatten()]\n",
    "group_percentages = [\"{0:.2%}\".format(value) for value in cm.flatten()/np.sum(cm)]\n",
    "Labels = [f\"{v2}\\n{v3}\" for v2, v3 in zip(group_counts,group_percentages)]\n",
    "Labels = np.asarray(Labels).reshape(3,3)\n",
    "sns.heatmap(cm, annot=Labels, fmt='', cmap='RdPu')"
   ]
  },
  {
   "cell_type": "code",
   "execution_count": 121,
   "id": "36bda3ec",
   "metadata": {
    "collapsed": true
   },
   "outputs": [
    {
     "name": "stderr",
     "output_type": "stream",
     "text": [
      "C:\\Users\\Farhana\\anaconda3\\lib\\site-packages\\sklearn\\metrics\\_classification.py:1245: UndefinedMetricWarning: Precision and F-score are ill-defined and being set to 0.0 in labels with no predicted samples. Use `zero_division` parameter to control this behavior.\n",
      "  _warn_prf(average, modifier, msg_start, len(result))\n",
      "C:\\Users\\Farhana\\anaconda3\\lib\\site-packages\\sklearn\\metrics\\_classification.py:1245: UndefinedMetricWarning: Precision and F-score are ill-defined and being set to 0.0 in labels with no predicted samples. Use `zero_division` parameter to control this behavior.\n",
      "  _warn_prf(average, modifier, msg_start, len(result))\n",
      "C:\\Users\\Farhana\\anaconda3\\lib\\site-packages\\sklearn\\metrics\\_classification.py:1245: UndefinedMetricWarning: Precision and F-score are ill-defined and being set to 0.0 in labels with no predicted samples. Use `zero_division` parameter to control this behavior.\n",
      "  _warn_prf(average, modifier, msg_start, len(result))\n"
     ]
    },
    {
     "data": {
      "text/html": [
       "<div>\n",
       "<style scoped>\n",
       "    .dataframe tbody tr th:only-of-type {\n",
       "        vertical-align: middle;\n",
       "    }\n",
       "\n",
       "    .dataframe tbody tr th {\n",
       "        vertical-align: top;\n",
       "    }\n",
       "\n",
       "    .dataframe thead th {\n",
       "        text-align: right;\n",
       "    }\n",
       "</style>\n",
       "<table border=\"1\" class=\"dataframe\">\n",
       "  <thead>\n",
       "    <tr style=\"text-align: right;\">\n",
       "      <th></th>\n",
       "      <th>KNN</th>\n",
       "      <th>Decision Tree Classifier</th>\n",
       "      <th>Random Forrest Classifier</th>\n",
       "      <th>Hybrid Approach</th>\n",
       "    </tr>\n",
       "  </thead>\n",
       "  <tbody>\n",
       "    <tr>\n",
       "      <th>Precision</th>\n",
       "      <td>0.996255</td>\n",
       "      <td>0.950613</td>\n",
       "      <td>0.992593</td>\n",
       "      <td>0.163636</td>\n",
       "    </tr>\n",
       "    <tr>\n",
       "      <th>Recall</th>\n",
       "      <td>0.986111</td>\n",
       "      <td>0.945707</td>\n",
       "      <td>0.972222</td>\n",
       "      <td>0.333333</td>\n",
       "    </tr>\n",
       "    <tr>\n",
       "      <th>F1-Score</th>\n",
       "      <td>0.991025</td>\n",
       "      <td>0.947527</td>\n",
       "      <td>0.981762</td>\n",
       "      <td>0.219512</td>\n",
       "    </tr>\n",
       "    <tr>\n",
       "      <th>Accuracy</th>\n",
       "      <td>0.995455</td>\n",
       "      <td>0.959091</td>\n",
       "      <td>0.990909</td>\n",
       "      <td>0.490909</td>\n",
       "    </tr>\n",
       "  </tbody>\n",
       "</table>\n",
       "</div>"
      ],
      "text/plain": [
       "                KNN  Decision Tree Classifier  Random Forrest Classifier  \\\n",
       "Precision  0.996255                  0.950613                   0.992593   \n",
       "Recall     0.986111                  0.945707                   0.972222   \n",
       "F1-Score   0.991025                  0.947527                   0.981762   \n",
       "Accuracy   0.995455                  0.959091                   0.990909   \n",
       "\n",
       "           Hybrid Approach  \n",
       "Precision         0.163636  \n",
       "Recall            0.333333  \n",
       "F1-Score          0.219512  \n",
       "Accuracy          0.490909  "
      ]
     },
     "execution_count": 121,
     "metadata": {},
     "output_type": "execute_result"
    }
   ],
   "source": [
    "report = classification_report(y_test, y_pred_mlpc,output_dict=True)\n",
    "macro_precision =  report['macro avg']['precision'] \n",
    "macro_recall = report['macro avg']['recall']    \n",
    "macro_f1 = report['macro avg']['f1-score']\n",
    "accuracy = report['accuracy']\n",
    "listend = []\n",
    "listend.append(macro_precision)\n",
    "listend.append(macro_recall)\n",
    "listend.append(macro_f1)\n",
    "listend.append(accuracy)\n",
    "data4['Hybrid Approach'] = listend\n",
    "data4\n"
   ]
  }
 ],
 "metadata": {
  "kernelspec": {
   "display_name": "Python 3",
   "language": "python",
   "name": "python3"
  },
  "language_info": {
   "codemirror_mode": {
    "name": "ipython",
    "version": 3
   },
   "file_extension": ".py",
   "mimetype": "text/x-python",
   "name": "python",
   "nbconvert_exporter": "python",
   "pygments_lexer": "ipython3",
   "version": "3.8.8"
  }
 },
 "nbformat": 4,
 "nbformat_minor": 5
}
